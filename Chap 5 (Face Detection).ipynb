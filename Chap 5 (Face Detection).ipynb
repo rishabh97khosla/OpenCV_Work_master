{
 "cells": [
  {
   "cell_type": "code",
   "execution_count": 2,
   "metadata": {},
   "outputs": [],
   "source": [
    "import cv2"
   ]
  },
  {
   "cell_type": "code",
   "execution_count": 6,
   "metadata": {},
   "outputs": [
    {
     "name": "stdout",
     "output_type": "stream",
     "text": [
      "number of face(s)= 9\n"
     ]
    },
    {
     "data": {
      "text/plain": [
       "-1"
      ]
     },
     "execution_count": 6,
     "metadata": {},
     "output_type": "execute_result"
    }
   ],
   "source": [
    "path='E:/c.jpg'\n",
    "faceCascade=cv2.CascadeClassifier('E:/Cascade/haarcascade_frontalface_default.xml')\n",
    "img=cv2.imread(path)\n",
    "imgResize=cv2.resize(img,(800,500))\n",
    "imgGray=cv2.cvtColor(imgResize,cv2.COLOR_BGR2GRAY)\n",
    "\n",
    "faces=faceCascade.detectMultiScale(imgGray,1.1,4)\n",
    "for (x,y,w,h) in faces:\n",
    "    cv2.rectangle(imgGray,(x,y),(x+w,y+h),(255,0,0),2)\n",
    "\n",
    "count_faces=str(len(faces))\n",
    "print (\"number of face(s)= \" + count_faces)    \n",
    "cv2.imshow('image',imgGray)\n",
    "cv2.waitKey(0)"
   ]
  },
  {
   "cell_type": "code",
   "execution_count": 3,
   "metadata": {},
   "outputs": [
    {
     "data": {
      "text/plain": [
       "-1"
      ]
     },
     "execution_count": 3,
     "metadata": {},
     "output_type": "execute_result"
    }
   ],
   "source": [
    "path='E:/image.jpg'\n",
    "faceCascade=cv2.CascadeClassifier('E:/Cascade/haarcascade_frontalface_default.xml')\n",
    "img=cv2.imread(path)\n",
    "imgResize=cv2.resize(img,(800,500))\n",
    "imgGray=cv2.cvtColor(imgResize,cv2.COLOR_BGR2GRAY)\n",
    "\n",
    "faces=faceCascade.detectMultiScale(imgGray,1.1,4)\n",
    "for (x,y,w,h) in faces:\n",
    "    cv2.rectangle(imgGray,(x,y),(x+w,y+h),(255,0,0),2)\n",
    "\n",
    "cv2.imshow('image',imgGray)\n",
    "cv2.waitKey(0)"
   ]
  },
  {
   "cell_type": "code",
   "execution_count": 5,
   "metadata": {},
   "outputs": [
    {
     "name": "stdout",
     "output_type": "stream",
     "text": [
      "number of face(s)= 6\n"
     ]
    }
   ],
   "source": [
    "import cv2\n",
    "face_cascade = cv2.CascadeClassifier('E:/Cascade/haarcascade_frontalface_default.xml')\n",
    "img = cv2.imread('E:/image.jpg')\n",
    "gray = cv2.cvtColor(img, cv2.COLOR_BGR2GRAY)\n",
    "faces = face_cascade.detectMultiScale(gray, 1.3, 5)\n",
    "count_faces=str(len(faces))\n",
    "print (\"number of face(s)= \" + count_faces)"
   ]
  },
  {
   "cell_type": "code",
   "execution_count": null,
   "metadata": {},
   "outputs": [],
   "source": []
  }
 ],
 "metadata": {
  "kernelspec": {
   "display_name": "Python 3",
   "language": "python",
   "name": "python3"
  },
  "language_info": {
   "codemirror_mode": {
    "name": "ipython",
    "version": 3
   },
   "file_extension": ".py",
   "mimetype": "text/x-python",
   "name": "python",
   "nbconvert_exporter": "python",
   "pygments_lexer": "ipython3",
   "version": "3.7.3"
  }
 },
 "nbformat": 4,
 "nbformat_minor": 2
}
