{
 "cells": [
  {
   "cell_type": "code",
   "execution_count": 1,
   "metadata": {},
   "outputs": [],
   "source": [
    "import os\n",
    "from PIL import Image\n",
    "import pickle\n",
    "import numpy as np\n",
    "import cv2\n",
    "\n",
    "face_css=cv2.CascadeClassifier('E:/Cascade/haarcascade_frontalface_alt2.xml')\n",
    "recognizer=cv2.face.LBPHFaceRecognizer_create()\n",
    "#base_dir=os.path.dirname(os.path.abspath(\"__file__\"))\n",
    "#image_dir=os.path.join(base_dir,'images')\n",
    "image_dir='C:/Users/User/ML/MYWORK/OpenCV/test'\n",
    "\n",
    "current_id=0\n",
    "label_id={}\n",
    "x_train=[]\n",
    "y_labels=[]\n",
    "\n",
    "for root,dirs,files in os.walk(image_dir):\n",
    "    for file in files:\n",
    "        if file.endswith('png')or file.endswith('jpg'):\n",
    "            path=os.path.join(root,file)\n",
    "            label=os.path.basename(os.path.dirname(path)).replace(' ','-').lower()\n",
    "            #print(label,path)\n",
    "            if not label in label_id:\n",
    "                label_id[label]=current_id\n",
    "                current_id=current_id+1\n",
    "            id_=label_id[label]\n",
    "            #y_labels.append(label)\n",
    "            #x_train.append(path)\n",
    "            pil_image=Image.open(path).convert('L')\n",
    "            size=(500,500)\n",
    "            final_image=pil_image.resize(size,Image.ANTIALIAS)\n",
    "            image_array=np.array(final_image,'uint8')\n",
    "            #print((image_array))\n",
    "            faces=face_css.detectMultiScale(image_array,scaleFactor=1.5,minNeighbors=5)\n",
    "            \n",
    "            for(x,y,w,h) in faces:\n",
    "                roi=image_array[y:y+h,x:x+w]\n",
    "                x_train.append(roi)\n",
    "                y_labels.append(id_)\n",
    "#print(y_labels)\n",
    "#print(x_train)\n",
    "\n",
    "with open('labels.pickle','wb')as f:\n",
    "    pickle.dump(label_id,f)\n",
    "    \n",
    "recognizer.train(x_train,np.array(y_labels))\n",
    "recognizer.save('trainer.yml')"
   ]
  },
  {
   "cell_type": "code",
   "execution_count": 2,
   "metadata": {},
   "outputs": [
    {
     "name": "stdout",
     "output_type": "stream",
     "text": [
      "{'anil': 0, 'ashish': 1, 'dhiraj': 2, 'priya': 3, 'rishabh': 4, 'sangeeta': 5, 'trapti': 6}\n"
     ]
    }
   ],
   "source": [
    "print(label_id)"
   ]
  },
  {
   "cell_type": "code",
   "execution_count": null,
   "metadata": {},
   "outputs": [],
   "source": []
  }
 ],
 "metadata": {
  "kernelspec": {
   "display_name": "Python 3",
   "language": "python",
   "name": "python3"
  },
  "language_info": {
   "codemirror_mode": {
    "name": "ipython",
    "version": 3
   },
   "file_extension": ".py",
   "mimetype": "text/x-python",
   "name": "python",
   "nbconvert_exporter": "python",
   "pygments_lexer": "ipython3",
   "version": "3.7.3"
  }
 },
 "nbformat": 4,
 "nbformat_minor": 2
}
