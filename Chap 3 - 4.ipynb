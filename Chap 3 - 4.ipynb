{
 "cells": [
  {
   "cell_type": "code",
   "execution_count": 1,
   "metadata": {},
   "outputs": [],
   "source": [
    "import cv2\n",
    "import numpy as np"
   ]
  },
  {
   "cell_type": "markdown",
   "metadata": {},
   "source": [
    "#### for checking the shape"
   ]
  },
  {
   "cell_type": "code",
   "execution_count": 2,
   "metadata": {},
   "outputs": [
    {
     "name": "stdout",
     "output_type": "stream",
     "text": [
      "(2399, 3000, 3)\n"
     ]
    },
    {
     "data": {
      "text/plain": [
       "-1"
      ]
     },
     "execution_count": 2,
     "metadata": {},
     "output_type": "execute_result"
    }
   ],
   "source": [
    "img=cv2.imread('E:/image.jpg')\n",
    "print(img.shape) #(height,width,BGR or channels)\n",
    "cv2.imshow('Image',img)\n",
    "cv2.waitKey(0)"
   ]
  },
  {
   "cell_type": "markdown",
   "metadata": {},
   "source": [
    "#### for resizing the image"
   ]
  },
  {
   "cell_type": "code",
   "execution_count": 3,
   "metadata": {},
   "outputs": [
    {
     "name": "stdout",
     "output_type": "stream",
     "text": [
      "(2399, 3000, 3)\n",
      "(500, 500, 3)\n"
     ]
    },
    {
     "data": {
      "text/plain": [
       "-1"
      ]
     },
     "execution_count": 3,
     "metadata": {},
     "output_type": "execute_result"
    }
   ],
   "source": [
    "img=cv2.imread('E:/image.jpg')\n",
    "print(img.shape) #(height,width,BGR or channels)\n",
    "imgResize=cv2.resize(img,(500,500))\n",
    "print(imgResize.shape)\n",
    "cv2.imshow('Original Image',img)\n",
    "cv2.imshow('Resized Image',imgResize)\n",
    "cv2.waitKey(0)"
   ]
  },
  {
   "cell_type": "markdown",
   "metadata": {},
   "source": [
    "#### for cropping the image"
   ]
  },
  {
   "cell_type": "code",
   "execution_count": 4,
   "metadata": {},
   "outputs": [
    {
     "data": {
      "text/plain": [
       "-1"
      ]
     },
     "execution_count": 4,
     "metadata": {},
     "output_type": "execute_result"
    }
   ],
   "source": [
    "#when you want specific part of the image\n",
    "img=cv2.imread('E:/image.jpg')\n",
    "imgCrop=img[0:500,800:1200]\n",
    "cv2.imshow('Cropped image',imgCrop)\n",
    "cv2.waitKey(0)"
   ]
  },
  {
   "cell_type": "markdown",
   "metadata": {},
   "source": [
    "#### joining images together (vertical and horizontal image)"
   ]
  },
  {
   "cell_type": "code",
   "execution_count": 5,
   "metadata": {},
   "outputs": [
    {
     "data": {
      "text/plain": [
       "-1"
      ]
     },
     "execution_count": 5,
     "metadata": {},
     "output_type": "execute_result"
    }
   ],
   "source": [
    "img=cv2.imread('E:/a.jpg')\n",
    "#img2=cv2.imread('E:/b.jpg')\n",
    "imgHor=np.vstack((img,img))\n",
    "imgVer=np.hstack((img,img))\n",
    "cv2.imshow('Horizontal image',imgVer)\n",
    "cv2.imshow('Vertical image',imgHor)\n",
    "cv2.waitKey(0)\n",
    "#disadvantage = cant resize "
   ]
  },
  {
   "cell_type": "code",
   "execution_count": null,
   "metadata": {},
   "outputs": [],
   "source": [
    "def empty(a):\n",
    "    pass\n",
    "path='E:/b.jpg'\n",
    "\n",
    "cv2.namedWindow('TrackBars')\n",
    "cv2.resizeWindow('TrackBars',640,240)\n",
    "cv2.createTrackbar('hue min','TrackBars',55,179,empty)\n",
    "cv2.createTrackbar('hue max','TrackBars',88,179,empty)\n",
    "cv2.createTrackbar('sat min','TrackBars',121,255,empty)\n",
    "cv2.createTrackbar('sat max','TrackBars',255,255,empty)\n",
    "cv2.createTrackbar('val min','TrackBars',55,255,empty)\n",
    "cv2.createTrackbar('val max','TrackBars',255,255,empty)\n",
    "\n",
    "while True:\n",
    "    img=cv2.imread(path)\n",
    "    imgHsv=cv2.cvtColor(img,cv2.COLOR_BGR2HSV)\n",
    "    h_min=cv2.getTrackbarPos('hue min','TrackBars')\n",
    "    h_max=cv2.getTrackbarPos('hue max','TrackBars')\n",
    "    s_min=cv2.getTrackbarPos('sat min','TrackBars')\n",
    "    s_max=cv2.getTrackbarPos('sat max','TrackBars')\n",
    "    v_min=cv2.getTrackbarPos('val min','TrackBars')\n",
    "    v_max=cv2.getTrackbarPos('val max','TrackBars')\n",
    "    print(h_min,h_max,s_min,s_max,v_min,v_max)\n",
    "    lower=np.array([h_min,s_min,v_min])\n",
    "    upper=np.array([h_max,s_max,v_max])\n",
    "    mask=cv2.inRange(imgHsv,lower,upper)\n",
    "    imgResult=cv2.bitwise_and(img,img,mask=mask)\n",
    "    \n",
    "    cv2.imshow('Original image',img)\n",
    "    cv2.imshow('HSV image',imgHsv)\n",
    "    cv2.imshow('Mask image',mask)\n",
    "    cv2.imshow('Result image',imgResult)\n",
    "    cv2.waitKey(0)\n",
    "    cv2.destroyAllWindows()\n",
    "\n",
    "    \n",
    "#57 92 92 255 77 221\n",
    "#55 88 121 255 55 255"
   ]
  },
  {
   "cell_type": "code",
   "execution_count": null,
   "metadata": {},
   "outputs": [],
   "source": []
  }
 ],
 "metadata": {
  "kernelspec": {
   "display_name": "Python 3",
   "language": "python",
   "name": "python3"
  },
  "language_info": {
   "codemirror_mode": {
    "name": "ipython",
    "version": 3
   },
   "file_extension": ".py",
   "mimetype": "text/x-python",
   "name": "python",
   "nbconvert_exporter": "python",
   "pygments_lexer": "ipython3",
   "version": "3.7.3"
  }
 },
 "nbformat": 4,
 "nbformat_minor": 2
}
