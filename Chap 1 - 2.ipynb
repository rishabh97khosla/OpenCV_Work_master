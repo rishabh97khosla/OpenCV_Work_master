{
 "cells": [
  {
   "cell_type": "code",
   "execution_count": 2,
   "metadata": {},
   "outputs": [],
   "source": [
    "import cv2\n",
    "import numpy as np"
   ]
  },
  {
   "cell_type": "markdown",
   "metadata": {},
   "source": [
    "#### for capturing the image"
   ]
  },
  {
   "cell_type": "code",
   "execution_count": 2,
   "metadata": {},
   "outputs": [
    {
     "data": {
      "text/plain": [
       "-1"
      ]
     },
     "execution_count": 2,
     "metadata": {},
     "output_type": "execute_result"
    }
   ],
   "source": [
    "img=cv2.imread('E:/image.jpg')\n",
    "cv2.imshow('Output',img)\n",
    "cv2.waitKey(0)"
   ]
  },
  {
   "cell_type": "markdown",
   "metadata": {},
   "source": [
    "#### for capturing the video"
   ]
  },
  {
   "cell_type": "code",
   "execution_count": 3,
   "metadata": {},
   "outputs": [],
   "source": [
    "cap=cv2.VideoCapture('E:/video.mp4')\n",
    "while True:\n",
    "    success,img=cap.read()\n",
    "    cv2.imshow('Video',img)\n",
    "    if cv2.waitKey(1) & 0xFF==ord('q'):\n",
    "        break"
   ]
  },
  {
   "cell_type": "markdown",
   "metadata": {},
   "source": [
    "#### for capturing the live content"
   ]
  },
  {
   "cell_type": "code",
   "execution_count": 4,
   "metadata": {},
   "outputs": [],
   "source": [
    "cap=cv2.VideoCapture(0)\n",
    "cap.set(3,640)\n",
    "cap.set(4,480)\n",
    "while True:\n",
    "    success,img=cap.read()\n",
    "    cv2.imshow('Video',img)\n",
    "    if cv2.waitKey(1) & 0xFF==ord('q'):\n",
    "        break"
   ]
  },
  {
   "cell_type": "markdown",
   "metadata": {},
   "source": [
    "#### for converting into gray scale image (cvtColor)"
   ]
  },
  {
   "cell_type": "code",
   "execution_count": 3,
   "metadata": {},
   "outputs": [
    {
     "data": {
      "text/plain": [
       "-1"
      ]
     },
     "execution_count": 3,
     "metadata": {},
     "output_type": "execute_result"
    }
   ],
   "source": [
    "img=cv2.imread('E:/image.jpg')\n",
    "imgGray=cv2.cvtColor(img,cv2.COLOR_BGR2GRAY)\n",
    "cv2.imshow('gray image',imgGray)\n",
    "cv2.waitKey(0)"
   ]
  },
  {
   "cell_type": "markdown",
   "metadata": {},
   "source": [
    "#### for converting into blurr scale image (Gaussion Blurr)"
   ]
  },
  {
   "cell_type": "code",
   "execution_count": 4,
   "metadata": {},
   "outputs": [
    {
     "data": {
      "text/plain": [
       "-1"
      ]
     },
     "execution_count": 4,
     "metadata": {},
     "output_type": "execute_result"
    }
   ],
   "source": [
    "img=cv2.imread('E:/image.jpg')\n",
    "imgGray=cv2.cvtColor(img,cv2.COLOR_BGR2GRAY)\n",
    "imgBlur=cv2.GaussianBlur(imgGray,(7,7),0)\n",
    "cv2.imshow('gray image',imgGray)\n",
    "cv2.imshow('blur image',imgBlur)\n",
    "cv2.waitKey(0)"
   ]
  },
  {
   "cell_type": "markdown",
   "metadata": {},
   "source": [
    "#### for finding out edge detector image (BGR2GRAY)"
   ]
  },
  {
   "cell_type": "code",
   "execution_count": 7,
   "metadata": {},
   "outputs": [
    {
     "data": {
      "text/plain": [
       "-1"
      ]
     },
     "execution_count": 7,
     "metadata": {},
     "output_type": "execute_result"
    }
   ],
   "source": [
    "img=cv2.imread('E:/image.jpg')\n",
    "imgGray=cv2.cvtColor(img,cv2.COLOR_BGR2GRAY)\n",
    "imgBlur=cv2.GaussianBlur(imgGray,(7,7),0)\n",
    "imgCanny=cv2.Canny(img,10,10)\n",
    "cv2.imshow('gray image',imgGray)\n",
    "cv2.imshow('blur image',imgBlur)\n",
    "cv2.imshow('canny image',imgCanny)\n",
    "cv2.waitKey(0)"
   ]
  },
  {
   "cell_type": "markdown",
   "metadata": {},
   "source": [
    "#### for increasing thickness of image (Dialation)"
   ]
  },
  {
   "cell_type": "code",
   "execution_count": 8,
   "metadata": {},
   "outputs": [
    {
     "data": {
      "text/plain": [
       "-1"
      ]
     },
     "execution_count": 8,
     "metadata": {},
     "output_type": "execute_result"
    }
   ],
   "source": [
    "img=cv2.imread('E:/image.jpg')\n",
    "kernel=np.ones((5,5),np.uint8)\n",
    "#imgGray=cv2.cvtColor(img,cv2.COLOR_BGR2GRAY)\n",
    "#imgBlur=cv2.GaussianBlur(imgGray,(7,7),0)\n",
    "imgCanny=cv2.Canny(img,100,100)\n",
    "imgDialation=cv2.dilate(imgCanny,kernel,iterations=1)\n",
    "#cv2.imshow('gray image',imgGray)\n",
    "#cv2.imshow('blur image',imgBlur)\n",
    "cv2.imshow('canny image',imgCanny)\n",
    "cv2.imshow('dialation image',imgDialation)\n",
    "cv2.waitKey(0)"
   ]
  },
  {
   "cell_type": "markdown",
   "metadata": {},
   "source": [
    "#### for making image thinner (Erosion) or (Erode)"
   ]
  },
  {
   "cell_type": "code",
   "execution_count": 9,
   "metadata": {},
   "outputs": [
    {
     "data": {
      "text/plain": [
       "-1"
      ]
     },
     "execution_count": 9,
     "metadata": {},
     "output_type": "execute_result"
    }
   ],
   "source": [
    "img=cv2.imread('E:/image.jpg')\n",
    "kernel=np.ones((5,5),np.uint8)\n",
    "#imgGray=cv2.cvtColor(img,cv2.COLOR_BGR2GRAY)\n",
    "#imgBlur=cv2.GaussianBlur(imgGray,(7,7),0)\n",
    "imgCanny=cv2.Canny(img,100,100)\n",
    "imgDialation=cv2.dilate(imgCanny,kernel,iterations=1)\n",
    "imgErode=cv2.erode(imgDialation,kernel,iterations=1)\n",
    "#cv2.imshow('gray image',imgGray)\n",
    "#cv2.imshow('blur image',imgBlur)\n",
    "cv2.imshow('canny image',imgCanny)\n",
    "cv2.imshow('dialation image',imgDialation)\n",
    "cv2.imshow('erode image',imgErode)\n",
    "cv2.waitKey(0)"
   ]
  },
  {
   "cell_type": "code",
   "execution_count": null,
   "metadata": {},
   "outputs": [],
   "source": []
  }
 ],
 "metadata": {
  "kernelspec": {
   "display_name": "Python 3",
   "language": "python",
   "name": "python3"
  },
  "language_info": {
   "codemirror_mode": {
    "name": "ipython",
    "version": 3
   },
   "file_extension": ".py",
   "mimetype": "text/x-python",
   "name": "python",
   "nbconvert_exporter": "python",
   "pygments_lexer": "ipython3",
   "version": "3.7.3"
  }
 },
 "nbformat": 4,
 "nbformat_minor": 2
}
